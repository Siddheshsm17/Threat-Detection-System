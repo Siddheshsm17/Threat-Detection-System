{
 "cells": [
  {
   "cell_type": "code",
   "execution_count": 1,
   "id": "c92aab38-cdbe-425b-927a-be44e9848def",
   "metadata": {},
   "outputs": [],
   "source": [
    "import pandas as pd\n",
    "import numpy as np\n",
    "import matplotlib.pyplot as plt\n",
    "import seaborn as sns"
   ]
  },
  {
   "cell_type": "code",
   "execution_count": 2,
   "id": "552da0c6-96c9-4fea-96cd-b81ffb858ffb",
   "metadata": {},
   "outputs": [],
   "source": [
    " df = pd.read_csv('random_forest_features.csv')"
   ]
  },
  {
   "cell_type": "code",
   "execution_count": 3,
   "id": "2df83591-1310-4e5f-9d1c-882324c7f76a",
   "metadata": {},
   "outputs": [
    {
     "data": {
      "text/html": [
       "<div>\n",
       "<style scoped>\n",
       "    .dataframe tbody tr th:only-of-type {\n",
       "        vertical-align: middle;\n",
       "    }\n",
       "\n",
       "    .dataframe tbody tr th {\n",
       "        vertical-align: top;\n",
       "    }\n",
       "\n",
       "    .dataframe thead th {\n",
       "        text-align: right;\n",
       "    }\n",
       "</style>\n",
       "<table border=\"1\" class=\"dataframe\">\n",
       "  <thead>\n",
       "    <tr style=\"text-align: right;\">\n",
       "      <th></th>\n",
       "      <th>File</th>\n",
       "      <th>Feature</th>\n",
       "      <th>Importance</th>\n",
       "    </tr>\n",
       "  </thead>\n",
       "  <tbody>\n",
       "    <tr>\n",
       "      <th>0</th>\n",
       "      <td>Bot.csv</td>\n",
       "      <td>Dst Port</td>\n",
       "      <td>0.107292</td>\n",
       "    </tr>\n",
       "    <tr>\n",
       "      <th>1</th>\n",
       "      <td>Bot.csv</td>\n",
       "      <td>Fwd IAT Tot</td>\n",
       "      <td>0.087538</td>\n",
       "    </tr>\n",
       "    <tr>\n",
       "      <th>2</th>\n",
       "      <td>Bot.csv</td>\n",
       "      <td>Fwd IAT Max</td>\n",
       "      <td>0.086947</td>\n",
       "    </tr>\n",
       "    <tr>\n",
       "      <th>3</th>\n",
       "      <td>Bot.csv</td>\n",
       "      <td>Flow Pkts/s</td>\n",
       "      <td>0.061917</td>\n",
       "    </tr>\n",
       "    <tr>\n",
       "      <th>4</th>\n",
       "      <td>Bot.csv</td>\n",
       "      <td>Bwd Seg Size Avg</td>\n",
       "      <td>0.056132</td>\n",
       "    </tr>\n",
       "    <tr>\n",
       "      <th>...</th>\n",
       "      <td>...</td>\n",
       "      <td>...</td>\n",
       "      <td>...</td>\n",
       "    </tr>\n",
       "    <tr>\n",
       "      <th>345</th>\n",
       "      <td>SSH-Bruteforce.csv</td>\n",
       "      <td>Bwd Pkt Len Max</td>\n",
       "      <td>0.009493</td>\n",
       "    </tr>\n",
       "    <tr>\n",
       "      <th>346</th>\n",
       "      <td>SSH-Bruteforce.csv</td>\n",
       "      <td>Bwd Pkt Len Mean</td>\n",
       "      <td>0.008414</td>\n",
       "    </tr>\n",
       "    <tr>\n",
       "      <th>347</th>\n",
       "      <td>SSH-Bruteforce.csv</td>\n",
       "      <td>Pkt Size Avg</td>\n",
       "      <td>0.007633</td>\n",
       "    </tr>\n",
       "    <tr>\n",
       "      <th>348</th>\n",
       "      <td>SSH-Bruteforce.csv</td>\n",
       "      <td>Init Fwd Win Byts</td>\n",
       "      <td>0.007536</td>\n",
       "    </tr>\n",
       "    <tr>\n",
       "      <th>349</th>\n",
       "      <td>SSH-Bruteforce.csv</td>\n",
       "      <td>Fwd Pkt Len Max</td>\n",
       "      <td>0.006267</td>\n",
       "    </tr>\n",
       "  </tbody>\n",
       "</table>\n",
       "<p>350 rows × 3 columns</p>\n",
       "</div>"
      ],
      "text/plain": [
       "                   File            Feature  Importance\n",
       "0               Bot.csv           Dst Port    0.107292\n",
       "1               Bot.csv        Fwd IAT Tot    0.087538\n",
       "2               Bot.csv        Fwd IAT Max    0.086947\n",
       "3               Bot.csv        Flow Pkts/s    0.061917\n",
       "4               Bot.csv   Bwd Seg Size Avg    0.056132\n",
       "..                  ...                ...         ...\n",
       "345  SSH-Bruteforce.csv    Bwd Pkt Len Max    0.009493\n",
       "346  SSH-Bruteforce.csv   Bwd Pkt Len Mean    0.008414\n",
       "347  SSH-Bruteforce.csv       Pkt Size Avg    0.007633\n",
       "348  SSH-Bruteforce.csv  Init Fwd Win Byts    0.007536\n",
       "349  SSH-Bruteforce.csv    Fwd Pkt Len Max    0.006267\n",
       "\n",
       "[350 rows x 3 columns]"
      ]
     },
     "execution_count": 3,
     "metadata": {},
     "output_type": "execute_result"
    }
   ],
   "source": [
    "df"
   ]
  },
  {
   "cell_type": "code",
   "execution_count": 4,
   "id": "28c8c86f-ac7b-42c5-95cc-4c2702f1f961",
   "metadata": {},
   "outputs": [
    {
     "data": {
      "text/plain": [
       "(350, 3)"
      ]
     },
     "execution_count": 4,
     "metadata": {},
     "output_type": "execute_result"
    }
   ],
   "source": [
    "df.shape"
   ]
  },
  {
   "cell_type": "code",
   "execution_count": 7,
   "id": "bf4ba000-985a-4aa4-92dc-3302ab3876b1",
   "metadata": {},
   "outputs": [
    {
     "data": {
      "text/plain": [
       "<bound method Series.unique of 0               Dst Port\n",
       "1            Fwd IAT Tot\n",
       "2            Fwd IAT Max\n",
       "3            Flow Pkts/s\n",
       "4       Bwd Seg Size Avg\n",
       "             ...        \n",
       "345      Bwd Pkt Len Max\n",
       "346     Bwd Pkt Len Mean\n",
       "347         Pkt Size Avg\n",
       "348    Init Fwd Win Byts\n",
       "349      Fwd Pkt Len Max\n",
       "Name: Feature, Length: 350, dtype: object>"
      ]
     },
     "execution_count": 7,
     "metadata": {},
     "output_type": "execute_result"
    }
   ],
   "source": [
    "df['Feature'].unique"
   ]
  },
  {
   "cell_type": "code",
   "execution_count": null,
   "id": "18cadbf7-4655-44b8-a8c2-a7f482a68417",
   "metadata": {},
   "outputs": [],
   "source": []
  }
 ],
 "metadata": {
  "kernelspec": {
   "display_name": "Python 3 (ipykernel)",
   "language": "python",
   "name": "python3"
  },
  "language_info": {
   "codemirror_mode": {
    "name": "ipython",
    "version": 3
   },
   "file_extension": ".py",
   "mimetype": "text/x-python",
   "name": "python",
   "nbconvert_exporter": "python",
   "pygments_lexer": "ipython3",
   "version": "3.12.5"
  }
 },
 "nbformat": 4,
 "nbformat_minor": 5
}
