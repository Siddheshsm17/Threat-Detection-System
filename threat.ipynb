{
 "cells": [
  {
   "cell_type": "code",
   "execution_count": 2,
   "id": "cbffc647-4581-4fd2-9953-f7946080cbf6",
   "metadata": {},
   "outputs": [],
   "source": [
    "import pandas as pd\n",
    "import numpy as np\n",
    "import matplotlib.pyplot as plt\n",
    "import seaborn as sns\n",
    "from sklearn.preprocessing import LabelEncoder"
   ]
  },
  {
   "cell_type": "code",
   "execution_count": 3,
   "id": "533d05a1-919b-490a-a7d4-3991cb8f05e7",
   "metadata": {},
   "outputs": [],
   "source": [
    "# Load all datasets in a list or dictionary for easy access\n",
    "files = ['Bot.csv', 'Brute Force-Web.csv','Brute Force-XSS.csv', 'DDOS attack-HOIC.csv','DDOS attack-LOIC-UDP.csv','DDoS attacks-LOIC-HTTP.csv','DoS attacks-GoldenEye.csv','DoS attacks-Hulk.csv','DoS attacks-SlowHTTPTest.csv','DoS attacks-Slowloris.csv','FTP-BruteForce.csv','Infilteration.csv','SQL Injection.csv','SSH-Bruteforce.csv']\n",
    "datasets = {file: pd.read_csv(file) for file in files}"
   ]
  },
  {
   "cell_type": "code",
   "execution_count": 23,
   "id": "2a59b229-67a2-40da-83ed-5c2651be34f0",
   "metadata": {},
   "outputs": [
    {
     "name": "stdout",
     "output_type": "stream",
     "text": [
      "9625148\n"
     ]
    }
   ],
   "source": [
    "rows=0\n",
    "for file in files:\n",
    "    rows += datasets[file].shape[0]\n",
    "print(rows)"
   ]
  },
  {
   "cell_type": "code",
   "execution_count": null,
   "id": "9dd54892-af6b-4073-a3ab-8e89808ec797",
   "metadata": {},
   "outputs": [],
   "source": []
  }
 ],
 "metadata": {
  "kernelspec": {
   "display_name": "Python 3 (ipykernel)",
   "language": "python",
   "name": "python3"
  },
  "language_info": {
   "codemirror_mode": {
    "name": "ipython",
    "version": 3
   },
   "file_extension": ".py",
   "mimetype": "text/x-python",
   "name": "python",
   "nbconvert_exporter": "python",
   "pygments_lexer": "ipython3",
   "version": "3.12.5"
  }
 },
 "nbformat": 4,
 "nbformat_minor": 5
}
